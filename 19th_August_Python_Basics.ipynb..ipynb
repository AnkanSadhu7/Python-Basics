{
 "cells": [
  {
   "cell_type": "markdown",
   "id": "7fae908f-c71f-4e30-94ef-98dbafc30f5b",
   "metadata": {},
   "source": [
    "TOPIC: Python Basics Variable"
   ]
  },
  {
   "cell_type": "markdown",
   "id": "9bc19bac-c1fd-4b1a-8f92-62eb2690a4c0",
   "metadata": {},
   "source": [
    "1. Declare two variables, `x` and `y`, and assign them integer values. \n",
    "Swap the values of these variables without using any temporary variable"
   ]
  },
  {
   "cell_type": "code",
   "execution_count": 11,
   "id": "ff73ae3e-cc09-49c8-b9a6-9e5f4ac29fee",
   "metadata": {},
   "outputs": [
    {
     "name": "stdin",
     "output_type": "stream",
     "text": [
      "x = 15\n",
      "y = 10\n"
     ]
    },
    {
     "name": "stdout",
     "output_type": "stream",
     "text": [
      "before swapping x is = 15  and y is = 10\n",
      "after swapping x is = 10  and y is = 15\n"
     ]
    }
   ],
   "source": [
    "x = int(input(\"x =\"))\n",
    "y = int(input(\"y =\"))\n",
    "\n",
    "print(\"before swapping x is =\",x,\" and y is =\",y)\n",
    "#swapping\n",
    "x = x + y\n",
    "y = x - y\n",
    "x = x - y\n",
    "\n",
    "print(\"after swapping x is =\",x,\" and y is =\",y)"
   ]
  },
  {
   "cell_type": "markdown",
   "id": "289605a1-ff31-4475-8088-cf5b1bf110ca",
   "metadata": {},
   "source": [
    "2. Create a program that calculates the area of a rectangle. Take the\n",
    "length and width as inputs from the user and store them in variables.\n",
    "Calculate and display the area."
   ]
  },
  {
   "cell_type": "code",
   "execution_count": 13,
   "id": "486a49e8-0a09-4c0d-bc9e-a3a5d491dcd3",
   "metadata": {},
   "outputs": [
    {
     "name": "stdin",
     "output_type": "stream",
     "text": [
      "Enter the Length = 10\n",
      "Enter the width = 5\n"
     ]
    },
    {
     "name": "stdout",
     "output_type": "stream",
     "text": [
      "Area of the rectangle is  50\n"
     ]
    }
   ],
   "source": [
    "l = int(input(\"Enter the Length =\"))\n",
    "b = int(input(\"Enter the width =\"))\n",
    "\n",
    "#the area of a rectangle.\n",
    "a = l*b\n",
    "print(\"Area of the rectangle is \",a)"
   ]
  },
  {
   "cell_type": "markdown",
   "id": "c9d16661-5577-4b78-a900-a057da6bfdf2",
   "metadata": {},
   "source": [
    "\n",
    "3. Write a Python program that converts temperature from Celsius to\n",
    "Fahrenheit. Take the temperature in Celsius as input, store it in a\n",
    "variable, convert it to Fahrenheit, and display the result."
   ]
  },
  {
   "cell_type": "code",
   "execution_count": 16,
   "id": "564bf0bd-ddd2-46da-b8b7-ba3bbb210156",
   "metadata": {},
   "outputs": [
    {
     "name": "stdin",
     "output_type": "stream",
     "text": [
      "Enter the temperature in Celsius Scale= 40.5\n"
     ]
    },
    {
     "name": "stdout",
     "output_type": "stream",
     "text": [
      "temperature in Fahrenheit Scale is 104.89999999999999\n"
     ]
    }
   ],
   "source": [
    "c = float(input(\"Enter the temperature in Celsius Scale=\"))\n",
    "#converting into Fahrenheit\n",
    "f = ((c/5)*9)+32\n",
    "print(\"temperature in Fahrenheit Scale is\",f)"
   ]
  },
  {
   "cell_type": "markdown",
   "id": "dd1825e9-6f24-42a3-af42-ee254d0e3131",
   "metadata": {},
   "source": [
    "TOPIC: String Based Questions"
   ]
  },
  {
   "cell_type": "markdown",
   "id": "1d169ac7-8890-41c5-9fe9-1276afa23747",
   "metadata": {},
   "source": [
    "1. Write a Python program that takes a string as input and prints the length of\n",
    "the string."
   ]
  },
  {
   "cell_type": "code",
   "execution_count": 4,
   "id": "77e95444-b344-4245-91cd-ebcd1014f8ed",
   "metadata": {},
   "outputs": [
    {
     "name": "stdin",
     "output_type": "stream",
     "text": [
      "Type Anything = Ankan Sadhu\n"
     ]
    },
    {
     "name": "stdout",
     "output_type": "stream",
     "text": [
      "11\n"
     ]
    }
   ],
   "source": [
    "a = input(\"Type Anything =\")\n",
    "print(len(a))"
   ]
  },
  {
   "cell_type": "markdown",
   "id": "9f196993-9684-4b12-83ca-7e351e0881fc",
   "metadata": {},
   "source": [
    "2. Create a program that takes a sentence from the user and counts the number\n",
    "of vowels (a, e, i, o, u) in the string."
   ]
  },
  {
   "cell_type": "code",
   "execution_count": 24,
   "id": "f25457b0-cef1-4630-850b-c7773d3b8f5d",
   "metadata": {},
   "outputs": [
    {
     "name": "stdin",
     "output_type": "stream",
     "text": [
      "Write your sentence = Ankan sadhu is my Name\n"
     ]
    },
    {
     "name": "stdout",
     "output_type": "stream",
     "text": [
      "7\n"
     ]
    }
   ],
   "source": [
    "s = input(\"Write your sentence =\")\n",
    "s = s.lower()\n",
    "s1 = int(s.count('a')) + int(s.count('e')) + int(s.count('i')) + int(s.count('o')) + int(s.count('u'))\n",
    "print(s1)"
   ]
  },
  {
   "cell_type": "markdown",
   "id": "461d5084-5368-46df-8750-9df81e7e0ad4",
   "metadata": {},
   "source": [
    "3. Given a string, reverse the order of characters using string slicing and print\n",
    "the reversed string."
   ]
  },
  {
   "cell_type": "code",
   "execution_count": 35,
   "id": "861261f0-d637-4f41-a79f-4231841764d6",
   "metadata": {},
   "outputs": [
    {
     "name": "stdin",
     "output_type": "stream",
     "text": [
      "Write your string = Ankan\n"
     ]
    },
    {
     "name": "stdout",
     "output_type": "stream",
     "text": [
      "nakna\n"
     ]
    }
   ],
   "source": [
    "s = input(\"Write your string =\")\n",
    "s = s.lower()\n",
    "reverse = s[::-1]  #string slicing \n",
    "print(reverse)"
   ]
  },
  {
   "cell_type": "markdown",
   "id": "e921f759-709f-40d1-a6d1-0b7e68894dee",
   "metadata": {},
   "source": [
    "4. Write a program that takes a string as input and checks if it is a palindrome\n",
    "(reads the same forwards and backwards)."
   ]
  },
  {
   "cell_type": "code",
   "execution_count": 40,
   "id": "c24c2344-db6c-4ddd-942a-9b10d30654fd",
   "metadata": {},
   "outputs": [
    {
     "name": "stdin",
     "output_type": "stream",
     "text": [
      "Write your string = ankan\n"
     ]
    },
    {
     "name": "stdout",
     "output_type": "stream",
     "text": [
      "before reversing =  ankan\n",
      "after reversing =  nakna\n"
     ]
    }
   ],
   "source": [
    "p = input(\"Write your string =\")\n",
    "p = p.lower()\n",
    "reverse_p = p[::-1]\n",
    "print('before reversing = ',p)\n",
    "print('after reversing = ',reverse_p)"
   ]
  },
  {
   "cell_type": "markdown",
   "id": "eb70ca1d-929a-447c-9fb0-f9c19ae999d4",
   "metadata": {},
   "source": [
    "5. Create a program that takes a string as input and removes all the spaces from\n",
    "it. Print the modified string without spaces."
   ]
  },
  {
   "cell_type": "code",
   "execution_count": 34,
   "id": "2fda8c9f-f72e-4a0a-beff-676b6bc0e8e4",
   "metadata": {},
   "outputs": [
    {
     "name": "stdin",
     "output_type": "stream",
     "text": [
      "Write your string = Ankan Sadhu Ankan\n"
     ]
    },
    {
     "name": "stdout",
     "output_type": "stream",
     "text": [
      "AnkanSadhuAnkan\n"
     ]
    }
   ],
   "source": [
    "p = input(\"Write your string =\")\n",
    "p1 = p.replace(\" \",\"\")\n",
    "print(p1)"
   ]
  },
  {
   "cell_type": "code",
   "execution_count": null,
   "id": "214293a5-92d9-4a26-ae01-f469407ed62b",
   "metadata": {},
   "outputs": [],
   "source": []
  }
 ],
 "metadata": {
  "kernelspec": {
   "display_name": "Python 3 (ipykernel)",
   "language": "python",
   "name": "python3"
  },
  "language_info": {
   "codemirror_mode": {
    "name": "ipython",
    "version": 3
   },
   "file_extension": ".py",
   "mimetype": "text/x-python",
   "name": "python",
   "nbconvert_exporter": "python",
   "pygments_lexer": "ipython3",
   "version": "3.10.8"
  }
 },
 "nbformat": 4,
 "nbformat_minor": 5
}
